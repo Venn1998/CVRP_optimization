{
 "cells": [
  {
   "attachments": {},
   "cell_type": "markdown",
   "metadata": {},
   "source": [
    "SCRIPT TO GET DATA AND THE DISTANCE MATRIX"
   ]
  },
  {
   "cell_type": "code",
   "execution_count": null,
   "metadata": {},
   "outputs": [],
   "source": [
    "import csv\n",
    "import numpy as np\n",
    "import sys\n",
    "np.set_printoptions(threshold=sys.maxsize)\n",
    "\n",
    "temp = \"inst01\"\n",
    "instances = {}\n",
    "MPC_instances_path = 'MCP_Instances/'\n",
    "with os.scandir(MPC_instances_path) as inst_list:\n",
    "    for inst in inst_list:\n",
    "        inst_path = MPC_instances_path + inst.name\n",
    "        with open(inst_path) as f:\n",
    "            reader = csv.reader(f,delimiter=' ')\n",
    "            data = list(reader)\n",
    "            instances[inst.name] = {}\n",
    "            M = int(data[0][0])            \n",
    "            N = int(data[1][0])            \n",
    "            Capacities = [int(n) for n in data[2]]   \n",
    "            Weights = [int(n) for n in data[3]]   \n",
    "            x = [int(n) for n in data[4]]   \n",
    "            y = [int(n) for n in data[5]]   \n",
    "            instances[inst.name]['M'] = M \n",
    "            instances[inst.name]['N'] = N \n",
    "            instances[inst.name]['Capacities'] = Capacities \n",
    "            instances[inst.name]['Weights'] = Weights\n",
    "            instances[inst.name]['dx']= x\n",
    "            instances[inst.name]['dy']= y\n",
    "            instances[inst.name]['distance_matrix'] = np.array(\n",
    "                [[abs(x[i]-x[j])+abs(y[i]-y[j]) for i in range(N+1)] for j in range(N+1)]) \n",
    "\n",
    "for key in instances[temp].keys():\n",
    "    if key in [\"N\",\"M\",\"Capacities\",\"Weights\"]  :\n",
    "        print(key,\"=\", instances[temp][key])\n",
    "\n",
    "def To_minizinc_format(obj:str):\n",
    "    obj =  obj[0] + '|' + obj[2:]\n",
    "    obj = obj[0:-2] + '|' + obj[-1]\n",
    "    obj = obj.replace(\"\\n\",\"\")\n",
    "    obj = obj[0] + obj[1:-1].replace(\"[\",\"|\") + obj[-1]\n",
    "    obj = obj[0] + obj[1:-1].replace(\"]\",\"|\") + obj[-1]\n",
    "    obj = obj[0] + obj[1:-1].replace(\"| |\",\"|\") + obj[-1]\n",
    "    obj = obj[0] + obj[1:-1].replace(\"| \",\"|\") + obj[-1]\n",
    "    obj = obj[0] + obj[1:-1].replace(\"| \",\"|\") + obj[-1]\n",
    "    obj = obj[0] + obj[1:-1].replace(\"     \",\",\") + obj[-1]\n",
    "    obj = obj[0] + obj[1:-1].replace(\"    \",\",\") + obj[-1]\n",
    "    obj = obj[0] + obj[1:-1].replace(\"   \",\",\") + obj[-1]\n",
    "    obj = obj[0] + obj[1:-1].replace(\"  \",\",\") + obj[-1]\n",
    "    obj = obj[0] + obj[1:-1].replace(\" \",\",\") + obj[-1]\n",
    "    obj = \"Distance = \" + obj\n",
    "    return obj\n",
    "\n",
    "with open('Distance Matrix.txt', 'w') as f:\n",
    "    f.write(To_minizinc_format(str(instances[temp][\"distance_matrix\"]))) \n"
   ]
  },
  {
   "attachments": {},
   "cell_type": "markdown",
   "metadata": {},
   "source": [
    "SCRIPT TO PRINT THE OUTPUT"
   ]
  },
  {
   "cell_type": "code",
   "execution_count": null,
   "metadata": {},
   "outputs": [],
   "source": [
    "\n",
    "\n",
    "\n",
    "\n",
    "\n",
    "used ={}\n",
    "for k in range(1,len(next)- 2*max(courier)):\n",
    "    if courier[k] in used.keys():\n",
    "        continue\n",
    "    else: used[courier[k]] = []\n",
    "\n",
    "keys = [i for i in used.keys()]\n",
    "print(\"Tour planned:\")\n",
    "for key in keys:\n",
    "    temp = []\n",
    "    couriers_listed = [n for n , e in enumerate(courier) if e == key]\n",
    "    start = sorted(couriers_listed)[-2]\n",
    "    k = start+1\n",
    "    for j in range(len(couriers_listed)):\n",
    "        if k == start + 1:\n",
    "            temp += [0]\n",
    "            k = next[k-1]\n",
    "            continue\n",
    "        if k-1 == max(couriers_listed):\n",
    "            temp += [0]\n",
    "            k = next[k-1]\n",
    "            continue\n",
    "        temp += [k]\n",
    "        k = next[k-1]\n",
    "    used[key] = temp\n",
    "\n",
    "for key in used.keys():\n",
    "    temp = str(used[key])\n",
    "    temp = temp.replace(\"[\",\"\")\n",
    "    temp = temp.replace(\"]\",\"\")\n",
    "    temp = temp.replace(\", \",\" => \")\n",
    "    used[key] = temp\n",
    "\n",
    "for key in sorted(keys):\n",
    "    print(\"Courier \"+str(key))\n",
    "    print(used[key])\n",
    "\n",
    "print(\"---------------------------\")\n",
    "print(\"Total distance:\",objective)"
   ]
  }
 ],
 "metadata": {
  "kernelspec": {
   "display_name": "ML4downsyndrome-D1DocbTt",
   "language": "python",
   "name": "python3"
  },
  "language_info": {
   "codemirror_mode": {
    "name": "ipython",
    "version": 3
   },
   "file_extension": ".py",
   "mimetype": "text/x-python",
   "name": "python",
   "nbconvert_exporter": "python",
   "pygments_lexer": "ipython3",
   "version": "3.9.10 (tags/v3.9.10:f2f3f53, Jan 17 2022, 15:14:21) [MSC v.1929 64 bit (AMD64)]"
  },
  "orig_nbformat": 4,
  "vscode": {
   "interpreter": {
    "hash": "e765655f724514810ca5f5619b481f72aea2afcac92a9986adb907bce56ced13"
   }
  }
 },
 "nbformat": 4,
 "nbformat_minor": 2
}
